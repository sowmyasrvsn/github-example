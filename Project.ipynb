{
 "cells": [
  {
   "cell_type": "code",
   "execution_count": 32,
   "metadata": {},
   "outputs": [],
   "source": [
    "import numpy as np\n",
    "import pandas as pd\n",
    "import matplotlib.pyplot as plt\n",
    "import seaborn as sns\n"
   ]
  },
  {
   "cell_type": "markdown",
   "metadata": {},
   "source": [
    "# Question\n",
    "* What is the average price of each distinct brand listed?\n",
    "* Which kind of shoes have the widest distribution of prices?\n",
    "* Is there a typical price distribution (e.g., normal) across brands or within specific brands?\n",
    "* What the difference between sports shoes brands in colors?"
   ]
  },
  {
   "cell_type": "code",
   "execution_count": 33,
   "metadata": {},
   "outputs": [
    {
     "data": {
      "text/plain": [
       "Index(['brand', 'name', 'prices.amountMax', 'prices.amountMin', 'prices.color',\n",
       "       'prices.isSale', 'size', 'category', 'color'],\n",
       "      dtype='object')"
      ]
     },
     "execution_count": 33,
     "metadata": {},
     "output_type": "execute_result"
    }
   ],
   "source": [
    "df=pd.read_csv(\"Datafiniti_Womens_Shoes1.csv\")\n",
    "df.head()\n",
    "df.columns"
   ]
  },
  {
   "cell_type": "code",
   "execution_count": 34,
   "metadata": {},
   "outputs": [
    {
     "data": {
      "text/html": [
       "<div>\n",
       "<style scoped>\n",
       "    .dataframe tbody tr th:only-of-type {\n",
       "        vertical-align: middle;\n",
       "    }\n",
       "\n",
       "    .dataframe tbody tr th {\n",
       "        vertical-align: top;\n",
       "    }\n",
       "\n",
       "    .dataframe thead th {\n",
       "        text-align: right;\n",
       "    }\n",
       "</style>\n",
       "<table border=\"1\" class=\"dataframe\">\n",
       "  <thead>\n",
       "    <tr style=\"text-align: right;\">\n",
       "      <th></th>\n",
       "      <th>brand</th>\n",
       "      <th>prices.amountMax</th>\n",
       "      <th>prices.amountMin</th>\n",
       "      <th>average</th>\n",
       "      <th>difference</th>\n",
       "    </tr>\n",
       "  </thead>\n",
       "  <tbody>\n",
       "    <tr>\n",
       "      <th>0</th>\n",
       "      <td>2 lips too</td>\n",
       "      <td>64.95</td>\n",
       "      <td>39.99</td>\n",
       "      <td>52.47</td>\n",
       "      <td>24.96</td>\n",
       "    </tr>\n",
       "    <tr>\n",
       "      <th>1</th>\n",
       "      <td>2 lips too</td>\n",
       "      <td>64.95</td>\n",
       "      <td>49.99</td>\n",
       "      <td>57.47</td>\n",
       "      <td>14.96</td>\n",
       "    </tr>\n",
       "    <tr>\n",
       "      <th>2</th>\n",
       "      <td>2 lips too</td>\n",
       "      <td>64.95</td>\n",
       "      <td>49.99</td>\n",
       "      <td>57.47</td>\n",
       "      <td>14.96</td>\n",
       "    </tr>\n",
       "    <tr>\n",
       "      <th>3</th>\n",
       "      <td>2 lips too</td>\n",
       "      <td>64.95</td>\n",
       "      <td>39.99</td>\n",
       "      <td>52.47</td>\n",
       "      <td>24.96</td>\n",
       "    </tr>\n",
       "    <tr>\n",
       "      <th>4</th>\n",
       "      <td>2 lips too</td>\n",
       "      <td>64.95</td>\n",
       "      <td>42.49</td>\n",
       "      <td>53.72</td>\n",
       "      <td>22.46</td>\n",
       "    </tr>\n",
       "  </tbody>\n",
       "</table>\n",
       "</div>"
      ],
      "text/plain": [
       "        brand  prices.amountMax  prices.amountMin  average  difference\n",
       "0  2 lips too             64.95             39.99    52.47       24.96\n",
       "1  2 lips too             64.95             49.99    57.47       14.96\n",
       "2  2 lips too             64.95             49.99    57.47       14.96\n",
       "3  2 lips too             64.95             39.99    52.47       24.96\n",
       "4  2 lips too             64.95             42.49    53.72       22.46"
      ]
     },
     "execution_count": 34,
     "metadata": {},
     "output_type": "execute_result"
    }
   ],
   "source": [
    "df['average']=round((df[\"prices.amountMax\"]+df[\"prices.amountMin\"])/2,2)\n",
    "df['difference']=round((df[\"prices.amountMax\"]-df[\"prices.amountMin\"]),2)\n",
    "pd.options.mode.chained_assignment = None  # default='warn'\n",
    "df1=df[[ \"brand\", \"prices.amountMax\",\n",
    "       \"prices.amountMin\",\"average\",\"difference\"]]\n",
    "\n",
    "df1.head()"
   ]
  },
  {
   "cell_type": "markdown",
   "metadata": {},
   "source": [
    "# Question\n",
    "* What is the average price of each distinct brand listed?\n",
    "* Which kind of shoes have the widest distribution of prices?"
   ]
  },
  {
   "cell_type": "code",
   "execution_count": 24,
   "metadata": {},
   "outputs": [
    {
     "data": {
      "text/plain": [
       "Text(0.5, 1.0, 'Most expensive average price brand')"
      ]
     },
     "execution_count": 24,
     "metadata": {},
     "output_type": "execute_result"
    },
    {
     "data": {
      "image/png": "[encoded data removed]",
      "text/plain": [
       "<Figure size 720x432 with 1 Axes>"
      ]
     },
     "metadata": {
      "needs_background": "light"
     },
     "output_type": "display_data"
    }
   ],
   "source": [
    "df2 = df1.groupby(['brand'], as_index=False).mean()\n",
    "df2.sort_values(by='average',ascending=False,inplace=True)\n",
    "df3=df2.head(10)\n",
    "df3.drop(['prices.amountMax','prices.amountMin','difference'],axis=1,inplace=True)\n",
    "df3.set_index('brand', inplace=True)\n",
    "ax = df3.plot(kind='barh', figsize=(10, 6))\n",
    "plt.xlabel('Price(USD)')\n",
    "ax.invert_yaxis()\n",
    "plt.title('Most expensive average price brand')"
   ]
  },
  {
   "cell_type": "markdown",
   "metadata": {},
   "source": [
    "# Question\n",
    "* Is there a typical price distribution (e.g., normal) across brands or within specific brands?"
   ]
  },
  {
   "cell_type": "code",
   "execution_count": 25,
   "metadata": {},
   "outputs": [
    {
     "data": {
      "text/plain": [
       "Text(0.5, 1.0, 'Most price difference brand')"
      ]
     },
     "execution_count": 25,
     "metadata": {},
     "output_type": "execute_result"
    },
    {
     "data": {
      "image/png": "[encoded data removed]",
      "text/plain": [
       "<Figure size 720x432 with 1 Axes>"
      ]
     },
     "metadata": {
      "needs_background": "light"
     },
     "output_type": "display_data"
    }
   ],
   "source": [
    "df4 = df1.groupby(['brand','difference'], as_index=False).sum()\n",
    "df4.sort_values(by='difference',ascending=False,inplace=True)\n",
    "df5=df4.head(10)\n",
    "df5.drop(['prices.amountMax','prices.amountMin','average'],axis=1,inplace=True)\n",
    "df5.set_index('brand', inplace=True)\n",
    "ax = df5.plot(kind='barh', figsize=(10, 6),color='orange')\n",
    "plt.xlabel('Price(USD)')\n",
    "ax.invert_yaxis()\n",
    "plt.title('Most price difference brand')"
   ]
  },
  {
   "cell_type": "code",
   "execution_count": 26,
   "metadata": {},
   "outputs": [
    {
     "data": {
      "text/html": [
       "<div>\n",
       "<style scoped>\n",
       "    .dataframe tbody tr th:only-of-type {\n",
       "        vertical-align: middle;\n",
       "    }\n",
       "\n",
       "    .dataframe tbody tr th {\n",
       "        vertical-align: top;\n",
       "    }\n",
       "\n",
       "    .dataframe thead th {\n",
       "        text-align: right;\n",
       "    }\n",
       "</style>\n",
       "<table border=\"1\" class=\"dataframe\">\n",
       "  <thead>\n",
       "    <tr style=\"text-align: right;\">\n",
       "      <th></th>\n",
       "      <th>brand</th>\n",
       "      <th>category</th>\n",
       "      <th>average</th>\n",
       "    </tr>\n",
       "  </thead>\n",
       "  <tbody>\n",
       "    <tr>\n",
       "      <th>0</th>\n",
       "      <td>2 lips too</td>\n",
       "      <td>Pumps</td>\n",
       "      <td>60</td>\n",
       "    </tr>\n",
       "    <tr>\n",
       "      <th>1</th>\n",
       "      <td>Adidas</td>\n",
       "      <td>Athletic</td>\n",
       "      <td>116</td>\n",
       "    </tr>\n",
       "    <tr>\n",
       "      <th>2</th>\n",
       "      <td>Adidas Outdoor</td>\n",
       "      <td>Athletic</td>\n",
       "      <td>107</td>\n",
       "    </tr>\n",
       "    <tr>\n",
       "      <th>3</th>\n",
       "      <td>Altra</td>\n",
       "      <td>Athletic</td>\n",
       "      <td>120</td>\n",
       "    </tr>\n",
       "    <tr>\n",
       "      <th>4</th>\n",
       "      <td>Arc'teryx</td>\n",
       "      <td>Athletic</td>\n",
       "      <td>150</td>\n",
       "    </tr>\n",
       "  </tbody>\n",
       "</table>\n",
       "</div>"
      ],
      "text/plain": [
       "            brand  category  average\n",
       "0      2 lips too     Pumps       60\n",
       "1          Adidas  Athletic      116\n",
       "2  Adidas Outdoor  Athletic      107\n",
       "3           Altra  Athletic      120\n",
       "4       Arc'teryx  Athletic      150"
      ]
     },
     "execution_count": 26,
     "metadata": {},
     "output_type": "execute_result"
    }
   ],
   "source": [
    "df6 = df.groupby(['brand','category'], as_index=False).mean()\n",
    "df6.round(0)\n",
    "df6[\"average\"]=df6[\"average\"].astype(int)\n",
    "df6[\"difference\"]=df6[\"difference\"].astype(int)\n",
    "df6[\"prices.amountMax\"]=df6[\"prices.amountMax\"].astype(int)\n",
    "df6[\"prices.amountMin\"]=df6[\"prices.amountMin\"].astype(int)\n",
    "df6[\"prices.isSale\"]=round(df6[\"prices.isSale\"].astype(float),2)\n",
    "df6.drop([\"size\",\"prices.isSale\",\"prices.amountMax\",\"prices.amountMin\",\"difference\"], axis=1, inplace=True)\n",
    "df6.head()"
   ]
  },
  {
   "cell_type": "code",
   "execution_count": 27,
   "metadata": {},
   "outputs": [
    {
     "name": "stdout",
     "output_type": "stream",
     "text": [
      "                              brand      category  average averageprice\n",
      "0                        2 lips too         Pumps       60        50-75\n",
      "1                            Adidas      Athletic      116      100-125\n",
      "2                    Adidas Outdoor      Athletic      107      100-125\n",
      "3                             Altra      Athletic      120      100-125\n",
      "4                         Arc'teryx      Athletic      150      125-150\n",
      "5                             Asics      Athletic      118      100-125\n",
      "6                            Astral         Boots       89       75-100\n",
      "7                              Bogs         Boots       64        50-75\n",
      "8                       Brinley Co.         Boots       33        25-50\n",
      "9            Brinley Co. Collection         Pumps       63        50-75\n",
      "10                           Brooks      Athletic      122      100-125\n",
      "11                          Carrini  Casual Shoes       27        25-50\n",
      "12                            Chaco         Boots      119      100-125\n",
      "13                     Daniel Green      Slippers       35        25-50\n",
      "14                      Danskin Now  Casual Shoes       19         0-25\n",
      "15                     Dr. Scholl's  Casual Shoes       32        25-50\n",
      "16                      ELLIE SHOES       Oxfords       37        25-50\n",
      "17                     Earth Spirit  Casual Shoes       18         0-25\n",
      "18                      Easy Street       Oxfords       54        50-75\n",
      "19                    FOREVER YOUNG  Casual Shoes       45        25-50\n",
      "20                      Faded Glory  Casual Shoes       13         0-25\n",
      "21                     Fergalicious       Oxfords       54        50-75\n",
      "22                             Frye         Boots      149      125-150\n",
      "23                  Genuine Dickies      Slippers       16         0-25\n",
      "24                     Hoka One One      Athletic      144      125-150\n",
      "25                      IB Non-Slip         Boots       39        25-50\n",
      "26                           Inov 8      Athletic      104      100-125\n",
      "27                             KEEN         Boots      109      100-125\n",
      "28                           Kaanas         Boots       96       75-100\n",
      "29                             Keds  Casual Shoes       49        25-50\n",
      "..                              ...           ...      ...          ...\n",
      "90                          k-swiss      Athletic       72        50-75\n",
      "91                             keds  Casual Shoes       50        25-50\n",
      "92             kisses by 2 lips too         Boots       76       75-100\n",
      "93                koolaburra by ugg         Boots       85       75-100\n",
      "94                 lc lauren conrad         Boots       38        25-50\n",
      "95                       lifestride         Boots       52        50-75\n",
      "96                             lugz         Boots       84       75-100\n",
      "97                       madden nyc         Boots       45        25-50\n",
      "98                         muk luks  Casual Shoes       30        25-50\n",
      "99       naturalsoul by naturalizer       Sandals       61        50-75\n",
      "100                     new balance      Athletic       63        50-75\n",
      "101                            nike      Athletic       63        50-75\n",
      "102                            nyla         Pumps       69        50-75\n",
      "103                   olivia miller         Boots       72        50-75\n",
      "104                            puma      Athletic       63        50-75\n",
      "105                           qupid       Sandals       49        25-50\n",
      "106                         rampage       Rampage       63        50-75\n",
      "107                            reef       Sandals       36        25-50\n",
      "108                            ryka      Athletic       62        50-75\n",
      "109                          seven7         Flats       39        25-50\n",
      "110           simply vera vera wang         Flats       55        50-75\n",
      "111                        skechers      Athletic       59        50-75\n",
      "112                              so      Slippers       42        25-50\n",
      "113      soft style by hush puppies         Clogs       51        50-75\n",
      "114           sonoma goods for life         Boots       50        25-50\n",
      "115  style charles by charles david         Pumps       74        50-75\n",
      "116                           sugar         Boots       42        25-50\n",
      "117                    under armour      Athletic       73        50-75\n",
      "118                        unionbay         Flats       40        25-50\n",
      "119                            vans      Athletic       58        50-75\n",
      "\n",
      "[120 rows x 4 columns]\n"
     ]
    }
   ],
   "source": [
    "bins = [0, 25, 50, 75, 100, 125, 150,200,250,300,350,400]\n",
    "labels = [\"0-25\",\"25-50\",\"50-75\",\"75-100\",\"100-125\",\"125-150\",\"150-200\",\"200-250\",\"250-300\",\"300-350\",\"350-400\"]\n",
    "df6['averageprice'] = pd.cut(df6['average'], bins=bins, labels=labels)\n",
    "print (df6)"
   ]
  },
  {
   "cell_type": "code",
   "execution_count": 28,
   "metadata": {},
   "outputs": [
    {
     "name": "stdout",
     "output_type": "stream",
     "text": [
      "    averageprice      category binnedbrandcount\n",
      "2           0-25  Casual Shoes              4-8\n",
      "4           0-25         Flats                1\n",
      "9           0-25       Sandals                1\n",
      "10          0-25      Slippers                1\n",
      "11         25-50      Athletic                2\n",
      "12         25-50         Boots              4-8\n",
      "13         25-50  Casual Shoes             8-10\n",
      "15         25-50         Flats              3-4\n",
      "17         25-50       Oxfords                1\n",
      "20         25-50       Sandals              3-4\n",
      "21         25-50      Slippers                2\n",
      "22         50-75      Athletic              >10\n",
      "23         50-75         Boots              >10\n",
      "25         50-75         Clogs                2\n",
      "26         50-75         Flats                1\n",
      "28         50-75       Oxfords              3-4\n",
      "29         50-75         Pumps              4-8\n",
      "30         50-75       Rampage                1\n",
      "31         50-75       Sandals              3-4\n",
      "33        75-100      Athletic              3-4\n",
      "34        75-100         Boots              4-8\n",
      "38        75-100       Loafers                2\n",
      "44       100-125      Athletic              >10\n",
      "45       100-125         Boots              4-8\n",
      "51       100-125         Pumps                1\n",
      "55       125-150      Athletic              3-4\n",
      "56       125-150         Boots              3-4\n",
      "66       150-200      Athletic                1\n",
      "76       150-200      Slippers                1\n",
      "101      300-350  Casual Shoes                1\n"
     ]
    }
   ],
   "source": [
    "dfcount = df6.groupby(['averageprice','category'], as_index=False).count()\n",
    "dfcount.dropna(subset=[\"brand\"],axis=0,inplace=True)\n",
    "dfcount.drop(['average'],axis=1,inplace=True)\n",
    "dfcount.rename(columns={'brand':'brand count'},inplace=True)\n",
    "bins = [0, 1,2, 4, 8, 10,20]\n",
    "labels = [\"1\",\"2\",\"3-4\",\"4-8\",\"8-10\",\">10\"]\n",
    "dfcount['binnedbrandcount'] = pd.cut(dfcount['brand count'], bins=bins, labels=labels)\n",
    "dfcount.drop(['brand count'],axis=1,inplace=True)\n",
    "print (dfcount)"
   ]
  },
  {
   "cell_type": "code",
   "execution_count": 29,
   "metadata": {},
   "outputs": [
    {
     "data": {
      "image/png": "[encoded data removed]",
      "text/plain": [
       "<Figure size 720x360 with 1 Axes>"
      ]
     },
     "metadata": {
      "needs_background": "light"
     },
     "output_type": "display_data"
    }
   ],
   "source": [
    "plt.figure(figsize=(10,5))\n",
    "ax = sns.scatterplot(x=\"category\", y=\"averageprice\",hue=\"binnedbrandcount\", size=\"binnedbrandcount\",sizes=(200, 20),data=dfcount)"
   ]
  },
  {
   "cell_type": "code",
   "execution_count": 111,
   "metadata": {},
   "outputs": [
    {
     "data": {
      "text/html": [
       "<div>\n",
       "<style scoped>\n",
       "    .dataframe tbody tr th:only-of-type {\n",
       "        vertical-align: middle;\n",
       "    }\n",
       "\n",
       "    .dataframe tbody tr th {\n",
       "        vertical-align: top;\n",
       "    }\n",
       "\n",
       "    .dataframe thead th {\n",
       "        text-align: right;\n",
       "    }\n",
       "</style>\n",
       "<table border=\"1\" class=\"dataframe\">\n",
       "  <thead>\n",
       "    <tr style=\"text-align: right;\">\n",
       "      <th></th>\n",
       "      <th>brand</th>\n",
       "      <th>prices.amountMax</th>\n",
       "      <th>prices.amountMin</th>\n",
       "      <th>average</th>\n",
       "      <th>difference</th>\n",
       "      <th>color</th>\n",
       "    </tr>\n",
       "  </thead>\n",
       "  <tbody>\n",
       "    <tr>\n",
       "      <th>690</th>\n",
       "      <td>Nike</td>\n",
       "      <td>90.0</td>\n",
       "      <td>84.99</td>\n",
       "      <td>87.50</td>\n",
       "      <td>5.01</td>\n",
       "      <td>Gray</td>\n",
       "    </tr>\n",
       "    <tr>\n",
       "      <th>691</th>\n",
       "      <td>Nike</td>\n",
       "      <td>75.0</td>\n",
       "      <td>56.25</td>\n",
       "      <td>65.62</td>\n",
       "      <td>18.75</td>\n",
       "      <td>Gray</td>\n",
       "    </tr>\n",
       "    <tr>\n",
       "      <th>692</th>\n",
       "      <td>Nike</td>\n",
       "      <td>75.0</td>\n",
       "      <td>75.00</td>\n",
       "      <td>75.00</td>\n",
       "      <td>0.00</td>\n",
       "      <td>Gray</td>\n",
       "    </tr>\n",
       "    <tr>\n",
       "      <th>693</th>\n",
       "      <td>Nike</td>\n",
       "      <td>75.0</td>\n",
       "      <td>56.25</td>\n",
       "      <td>65.62</td>\n",
       "      <td>18.75</td>\n",
       "      <td>White</td>\n",
       "    </tr>\n",
       "    <tr>\n",
       "      <th>694</th>\n",
       "      <td>Nike</td>\n",
       "      <td>75.0</td>\n",
       "      <td>56.25</td>\n",
       "      <td>65.62</td>\n",
       "      <td>18.75</td>\n",
       "      <td>Black</td>\n",
       "    </tr>\n",
       "  </tbody>\n",
       "</table>\n",
       "</div>"
      ],
      "text/plain": [
       "    brand  prices.amountMax  prices.amountMin  average  difference  color\n",
       "690  Nike              90.0             84.99    87.50        5.01   Gray\n",
       "691  Nike              75.0             56.25    65.62       18.75   Gray\n",
       "692  Nike              75.0             75.00    75.00        0.00   Gray\n",
       "693  Nike              75.0             56.25    65.62       18.75  White\n",
       "694  Nike              75.0             56.25    65.62       18.75  Black"
      ]
     },
     "execution_count": 111,
     "metadata": {},
     "output_type": "execute_result"
    }
   ],
   "source": [
    "dfcolor=df[[ \"brand\", \"prices.amountMax\",\n",
    "       \"prices.amountMin\",\"average\",\"difference\",\"color\"]]\n",
    "dfcolor.head()\n",
    "dfcolorbrand=dfcolor.loc[dfcolor['brand'] ==\"Nike\"]\n"
   ]
  },
  {
   "cell_type": "raw",
   "metadata": {},
   "source": []
  },
  {
   "cell_type": "code",
   "execution_count": 112,
   "metadata": {},
   "outputs": [
    {
     "data": {
      "image/png": "[encoded data removed]",
      "text/plain": [
       "<Figure size 720x360 with 1 Axes>"
      ]
     },
     "metadata": {
      "needs_background": "light"
     },
     "output_type": "display_data"
    }
   ],
   "source": [
    "plt.figure(figsize=(10,5))\n",
    "ax = sns.boxplot(x=\"color\", y=\"average\", data=dfcolorbrand)\n"
   ]
  },
  {
   "cell_type": "code",
   "execution_count": null,
   "metadata": {},
   "outputs": [],
   "source": []
  }
 ],
 "metadata": {
  "kernelspec": {
   "display_name": "Python 3",
   "language": "python",
   "name": "python3"
  },
  "language_info": {
   "codemirror_mode": {
    "name": "ipython",
    "version": 3
   },
   "file_extension": ".py",
   "mimetype": "text/x-python",
   "name": "python",
   "nbconvert_exporter": "python",
   "pygments_lexer": "ipython3",
   "version": "3.6.7"
  }
 },
 "nbformat": 4,
 "nbformat_minor": 4
}
