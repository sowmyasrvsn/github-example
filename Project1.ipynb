{
 "cells": [
  {
   "cell_type": "code",
   "execution_count": 1,
   "metadata": {},
   "outputs": [],
   "source": [
    "import numpy as np\n",
    "import pandas as pd\n",
    "import matplotlib.pyplot as plt\n",
    "import seaborn as sns\n"
   ]
  },
  {
   "cell_type": "markdown",
   "metadata": {},
   "source": [
    "# Introduction\n",
    "\n",
    "Analyzing and understanding prices of shoes based brands, colors, category. \n",
    "\n",
    "# Who would be interested\n",
    "Retailers who plan to stock some shoes based on price,category,colors\n",
    "Buyers who want to understand which brands go on sale more \n",
    "and manufacturers who want to understand new markets\n",
    "\n",
    "# Data\n",
    "Datafiniti_Womens_Shoes1 is a dataset that consists of different brands, along with their color,\n",
    "name of the shoe, price maximum, minimum, whether its on sale or not and category\n",
    "\n",
    "# Methodology\n",
    "This dataset will be analyzed to answer the following questions\n",
    "* What is the average price of each distinct brand listed?\n",
    "* What are the prices ranges for different category of shoes and how many brands of shoes do we have in a category\n",
    "* Is there a price distribution based on the color of the shoes?\n",
    "* Which brand and category have sales?"
   ]
  },
  {
   "cell_type": "code",
   "execution_count": 206,
   "metadata": {},
   "outputs": [
    {
     "data": {
      "text/plain": [
       "Index(['brand', 'name', 'prices.amountMax', 'prices.amountMin', 'prices.color',\n",
       "       'prices.isSale', 'size', 'category', 'color'],\n",
       "      dtype='object')"
      ]
     },
     "execution_count": 206,
     "metadata": {},
     "output_type": "execute_result"
    }
   ],
   "source": [
    "df=pd.read_csv(\"Datafiniti_Womens_Shoes1.csv\")\n",
    "df.head()\n",
    "df.columns"
   ]
  },
  {
   "cell_type": "code",
   "execution_count": 207,
   "metadata": {},
   "outputs": [
    {
     "data": {
      "text/html": [
       "<div>\n",
       "<style scoped>\n",
       "    .dataframe tbody tr th:only-of-type {\n",
       "        vertical-align: middle;\n",
       "    }\n",
       "\n",
       "    .dataframe tbody tr th {\n",
       "        vertical-align: top;\n",
       "    }\n",
       "\n",
       "    .dataframe thead th {\n",
       "        text-align: right;\n",
       "    }\n",
       "</style>\n",
       "<table border=\"1\" class=\"dataframe\">\n",
       "  <thead>\n",
       "    <tr style=\"text-align: right;\">\n",
       "      <th></th>\n",
       "      <th>brand</th>\n",
       "      <th>prices.amountMax</th>\n",
       "      <th>prices.amountMin</th>\n",
       "      <th>average</th>\n",
       "      <th>difference</th>\n",
       "    </tr>\n",
       "  </thead>\n",
       "  <tbody>\n",
       "    <tr>\n",
       "      <th>0</th>\n",
       "      <td>2 lips too</td>\n",
       "      <td>64.95</td>\n",
       "      <td>39.99</td>\n",
       "      <td>52.47</td>\n",
       "      <td>24.96</td>\n",
       "    </tr>\n",
       "    <tr>\n",
       "      <th>1</th>\n",
       "      <td>2 lips too</td>\n",
       "      <td>64.95</td>\n",
       "      <td>49.99</td>\n",
       "      <td>57.47</td>\n",
       "      <td>14.96</td>\n",
       "    </tr>\n",
       "    <tr>\n",
       "      <th>2</th>\n",
       "      <td>2 lips too</td>\n",
       "      <td>64.95</td>\n",
       "      <td>49.99</td>\n",
       "      <td>57.47</td>\n",
       "      <td>14.96</td>\n",
       "    </tr>\n",
       "    <tr>\n",
       "      <th>3</th>\n",
       "      <td>2 lips too</td>\n",
       "      <td>64.95</td>\n",
       "      <td>39.99</td>\n",
       "      <td>52.47</td>\n",
       "      <td>24.96</td>\n",
       "    </tr>\n",
       "    <tr>\n",
       "      <th>4</th>\n",
       "      <td>2 lips too</td>\n",
       "      <td>64.95</td>\n",
       "      <td>42.49</td>\n",
       "      <td>53.72</td>\n",
       "      <td>22.46</td>\n",
       "    </tr>\n",
       "  </tbody>\n",
       "</table>\n",
       "</div>"
      ],
      "text/plain": [
       "        brand  prices.amountMax  prices.amountMin  average  difference\n",
       "0  2 lips too             64.95             39.99    52.47       24.96\n",
       "1  2 lips too             64.95             49.99    57.47       14.96\n",
       "2  2 lips too             64.95             49.99    57.47       14.96\n",
       "3  2 lips too             64.95             39.99    52.47       24.96\n",
       "4  2 lips too             64.95             42.49    53.72       22.46"
      ]
     },
     "execution_count": 207,
     "metadata": {},
     "output_type": "execute_result"
    }
   ],
   "source": [
    "df['average']=round((df[\"prices.amountMax\"]+df[\"prices.amountMin\"])/2,2)\n",
    "df['difference']=round((df[\"prices.amountMax\"]-df[\"prices.amountMin\"]),2)\n",
    "pd.options.mode.chained_assignment = None  # default='warn'\n",
    "df1=df[[ \"brand\", \"prices.amountMax\",\n",
    "       \"prices.amountMin\",\"average\",\"difference\"]]\n",
    "\n",
    "df1.head()"
   ]
  },
  {
   "cell_type": "markdown",
   "metadata": {},
   "source": [
    "# Question\n",
    "* What is the average price of each distinct brand listed?"
   ]
  },
  {
   "cell_type": "code",
   "execution_count": 4,
   "metadata": {},
   "outputs": [
    {
     "data": {
      "text/plain": [
       "Text(0.5, 1.0, 'Most expensive average price brand')"
      ]
     },
     "execution_count": 4,
     "metadata": {},
     "output_type": "execute_result"
    },
    {
     "data": {
      "image/png": "[encoded data removed]",
      "text/plain": [
       "<Figure size 720x432 with 1 Axes>"
      ]
     },
     "metadata": {
      "needs_background": "light"
     },
     "output_type": "display_data"
    }
   ],
   "source": [
    "df2 = df1.groupby(['brand'], as_index=False).mean()\n",
    "df2.sort_values(by='average',ascending=False,inplace=True)\n",
    "df3=df2.head(10)\n",
    "df3.drop(['prices.amountMax','prices.amountMin','difference'],axis=1,inplace=True)\n",
    "df3.set_index('brand', inplace=True)\n",
    "ax = df3.plot(kind='barh', figsize=(10, 6))\n",
    "plt.xlabel('Price(USD)')\n",
    "ax.invert_yaxis()\n",
    "plt.title('Most expensive average price brand')"
   ]
  },
  {
   "cell_type": "markdown",
   "metadata": {},
   "source": [
    "# Observation\n",
    "Red Wing, On Footwear, MLB, Arcteryc etc are the most expensive brands available in teh market."
   ]
  },
  {
   "cell_type": "markdown",
   "metadata": {},
   "source": [
    "# Question\n",
    "* Which category and price ranges have more brands of shoes than others"
   ]
  },
  {
   "cell_type": "code",
   "execution_count": 6,
   "metadata": {},
   "outputs": [
    {
     "data": {
      "text/html": [
       "<div>\n",
       "<style scoped>\n",
       "    .dataframe tbody tr th:only-of-type {\n",
       "        vertical-align: middle;\n",
       "    }\n",
       "\n",
       "    .dataframe tbody tr th {\n",
       "        vertical-align: top;\n",
       "    }\n",
       "\n",
       "    .dataframe thead th {\n",
       "        text-align: right;\n",
       "    }\n",
       "</style>\n",
       "<table border=\"1\" class=\"dataframe\">\n",
       "  <thead>\n",
       "    <tr style=\"text-align: right;\">\n",
       "      <th></th>\n",
       "      <th>brand</th>\n",
       "      <th>category</th>\n",
       "      <th>average</th>\n",
       "    </tr>\n",
       "  </thead>\n",
       "  <tbody>\n",
       "    <tr>\n",
       "      <th>0</th>\n",
       "      <td>2 lips too</td>\n",
       "      <td>Pumps</td>\n",
       "      <td>60</td>\n",
       "    </tr>\n",
       "    <tr>\n",
       "      <th>1</th>\n",
       "      <td>Adidas</td>\n",
       "      <td>Athletic</td>\n",
       "      <td>116</td>\n",
       "    </tr>\n",
       "    <tr>\n",
       "      <th>2</th>\n",
       "      <td>Adidas Outdoor</td>\n",
       "      <td>Athletic</td>\n",
       "      <td>107</td>\n",
       "    </tr>\n",
       "    <tr>\n",
       "      <th>3</th>\n",
       "      <td>Altra</td>\n",
       "      <td>Athletic</td>\n",
       "      <td>120</td>\n",
       "    </tr>\n",
       "    <tr>\n",
       "      <th>4</th>\n",
       "      <td>Arc'teryx</td>\n",
       "      <td>Athletic</td>\n",
       "      <td>150</td>\n",
       "    </tr>\n",
       "  </tbody>\n",
       "</table>\n",
       "</div>"
      ],
      "text/plain": [
       "            brand  category  average\n",
       "0      2 lips too     Pumps       60\n",
       "1          Adidas  Athletic      116\n",
       "2  Adidas Outdoor  Athletic      107\n",
       "3           Altra  Athletic      120\n",
       "4       Arc'teryx  Athletic      150"
      ]
     },
     "execution_count": 6,
     "metadata": {},
     "output_type": "execute_result"
    }
   ],
   "source": [
    "df6 = df.groupby(['brand','category'], as_index=False).mean()\n",
    "df6.round(0)\n",
    "df6[\"average\"]=df6[\"average\"].astype(int)\n",
    "df6[\"difference\"]=df6[\"difference\"].astype(int)\n",
    "df6[\"prices.amountMax\"]=df6[\"prices.amountMax\"].astype(int)\n",
    "df6[\"prices.amountMin\"]=df6[\"prices.amountMin\"].astype(int)\n",
    "df6[\"prices.isSale\"]=round(df6[\"prices.isSale\"].astype(float),2)\n",
    "df6.drop([\"size\",\"prices.isSale\",\"prices.amountMax\",\"prices.amountMin\",\"difference\"], axis=1, inplace=True)\n",
    "df6.head()"
   ]
  },
  {
   "cell_type": "code",
   "execution_count": 7,
   "metadata": {},
   "outputs": [
    {
     "name": "stdout",
     "output_type": "stream",
     "text": [
      "    averageprice      category binnedbrandcount\n",
      "2           0-25  Casual Shoes              4-8\n",
      "4           0-25         Flats                1\n",
      "9           0-25       Sandals                1\n",
      "10          0-25      Slippers                1\n",
      "11         25-50      Athletic                2\n",
      "12         25-50         Boots              4-8\n",
      "13         25-50  Casual Shoes             8-10\n",
      "15         25-50         Flats              3-4\n",
      "17         25-50       Oxfords                1\n",
      "20         25-50       Sandals              3-4\n",
      "21         25-50      Slippers                2\n",
      "22         50-75      Athletic              >10\n",
      "23         50-75         Boots              >10\n",
      "25         50-75         Clogs                2\n",
      "26         50-75         Flats                1\n",
      "28         50-75       Oxfords              3-4\n",
      "29         50-75         Pumps              4-8\n",
      "30         50-75       Rampage                1\n",
      "31         50-75       Sandals              3-4\n",
      "33        75-100      Athletic              3-4\n",
      "34        75-100         Boots              4-8\n",
      "38        75-100       Loafers                2\n",
      "44       100-125      Athletic              >10\n",
      "45       100-125         Boots              4-8\n",
      "51       100-125         Pumps                1\n",
      "55       125-150      Athletic              3-4\n",
      "56       125-150         Boots              3-4\n",
      "66       150-200      Athletic                1\n",
      "76       150-200      Slippers                1\n",
      "101      300-350  Casual Shoes                1\n"
     ]
    }
   ],
   "source": [
    "bins = [0, 25, 50, 75, 100, 125, 150,200,250,300,350,400]\n",
    "labels = [\"0-25\",\"25-50\",\"50-75\",\"75-100\",\"100-125\",\"125-150\",\"150-200\",\"200-250\",\"250-300\",\"300-350\",\"350-400\"]\n",
    "df6['averageprice'] = pd.cut(df6['average'], bins=bins, labels=labels)\n",
    "dfcount = df6.groupby(['averageprice','category'], as_index=False).count()\n",
    "dfcount.dropna(subset=[\"brand\"],axis=0,inplace=True)\n",
    "dfcount.drop(['average'],axis=1,inplace=True)\n",
    "dfcount.rename(columns={'brand':'brand count'},inplace=True)\n",
    "bins = [0, 1,2, 4, 8, 10,20]\n",
    "labels = [\"1\",\"2\",\"3-4\",\"4-8\",\"8-10\",\">10\"]\n",
    "dfcount['binnedbrandcount'] = pd.cut(dfcount['brand count'], bins=bins, labels=labels)\n",
    "dfcount.drop(['brand count'],axis=1,inplace=True)\n",
    "print (dfcount)"
   ]
  },
  {
   "cell_type": "code",
   "execution_count": 8,
   "metadata": {},
   "outputs": [
    {
     "data": {
      "image/png": "[encoded data removed]",
      "text/plain": [
       "<Figure size 720x360 with 1 Axes>"
      ]
     },
     "metadata": {
      "needs_background": "light"
     },
     "output_type": "display_data"
    }
   ],
   "source": [
    "plt.figure(figsize=(10,5))\n",
    "ax = sns.scatterplot(x=\"category\", y=\"averageprice\",hue=\"binnedbrandcount\", size=\"binnedbrandcount\",sizes=(200, 20),data=dfcount)"
   ]
  },
  {
   "cell_type": "markdown",
   "metadata": {},
   "source": [
    "# Result\n",
    "There are a lot of atheletic shoe brands in the $25-$150 range , there are a lot of brands in the boots category in the $25-$150 range . \n",
    "\n",
    "# Observation\n",
    "There is an opportunity to cut down on some of hte casual shoe lines give there are so many\n",
    "There is also an opportunity to have more atheletic shoes  in $25-$50 range\n"
   ]
  },
  {
   "cell_type": "markdown",
   "metadata": {},
   "source": [
    "# Question\n",
    "* For the Nike brand, what is the price distribution based on color"
   ]
  },
  {
   "cell_type": "code",
   "execution_count": 10,
   "metadata": {},
   "outputs": [
    {
     "data": {
      "image/png": "[encoded data removed]",
      "text/plain": [
       "<Figure size 720x360 with 1 Axes>"
      ]
     },
     "metadata": {
      "needs_background": "light"
     },
     "output_type": "display_data"
    }
   ],
   "source": [
    "dfcolor=df[[ \"brand\", \"prices.amountMax\",\n",
    "       \"prices.amountMin\",\"average\",\"difference\",\"color\"]]\n",
    "dfcolor.head()\n",
    "dfcolorbrand=dfcolor.loc[dfcolor['brand'] ==\"Nike\"]\n",
    "plt.figure(figsize=(10,5))\n",
    "ax = sns.boxplot(x=\"color\", y=\"average\", data=dfcolorbrand)\n"
   ]
  },
  {
   "cell_type": "markdown",
   "metadata": {},
   "source": [
    "# Observation \n",
    "For Nike brand, which is an atheletic brand , gray and brown seems to have the least price variation and black shoes have the greatest variation\n",
    "The price of white shoes are generally lower than black shoes\n",
    "\n",
    "# Recommendation\n",
    "If a new shoe line is started, i recommend either gray or brown shoes instead of white shoes"
   ]
  },
  {
   "cell_type": "markdown",
   "metadata": {},
   "source": [
    "# Question\n",
    "* Which brands go on sale more"
   ]
  },
  {
   "cell_type": "code",
   "execution_count": 147,
   "metadata": {},
   "outputs": [
    {
     "data": {
      "text/plain": [
       "<matplotlib.axes._subplots.AxesSubplot at 0x7f59cdb17b38>"
      ]
     },
     "execution_count": 147,
     "metadata": {},
     "output_type": "execute_result"
    },
    {
     "data": {
      "image/png": "[encoded data removed]",
      "text/plain": [
       "<Figure size 720x432 with 1 Axes>"
      ]
     },
     "metadata": {
      "needs_background": "light"
     },
     "output_type": "display_data"
    }
   ],
   "source": [
    "df7=df[[ \"brand\",\"prices.isSale\",\"average\"]]\n",
    "df8=df7.groupby(['brand','prices.isSale']).size().reset_index(name='counts')\n",
    "df8 = df8.pivot(index='brand',columns='prices.isSale')\n",
    "\n",
    "df8 = df8.fillna(0)\n",
    "df8 = df8.reindex(df9['counts'].sort_values(by=True, ascending=False).index)\n",
    "df9.plot.bar(figsize=(10,6),stacked=True)"
   ]
  },
  {
   "cell_type": "code",
   "execution_count": 210,
   "metadata": {},
   "outputs": [
    {
     "data": {
      "text/plain": [
       "<matplotlib.axes._subplots.AxesSubplot at 0x7f59d5e18438>"
      ]
     },
     "execution_count": 210,
     "metadata": {},
     "output_type": "execute_result"
    },
    {
     "data": {
      "image/png": "[encoded data removed]",
      "text/plain": [
       "<Figure size 720x432 with 1 Axes>"
      ]
     },
     "metadata": {
      "needs_background": "light"
     },
     "output_type": "display_data"
    }
   ],
   "source": [
    "df7=df[[\"category\", \"prices.isSale\",\"average\"]]\n",
    "df8=df7.groupby(['category','prices.isSale']).size().reset_index(name='counts')\n",
    "df8 = df8.pivot(index='category',columns='prices.isSale')\n",
    "df8 = df8.fillna(0)\n",
    "df8 = df8.reindex(df8['counts'].sort_values(by=True, ascending=False).index)\n",
    "df9=df8.head(3)\n",
    "df9.plot.barh(figsize=(10,6),stacked=True)\n"
   ]
  },
  {
   "cell_type": "code",
   "execution_count": null,
   "metadata": {},
   "outputs": [],
   "source": [
    "# Result\n",
    "The result shows Althetic shoes, boots and casual shoes go on sale more often\n",
    "\n",
    "# Observation\n",
    "With so many brands of shoes in athletic and boots category, it is no surpise that they go on sale.\n",
    "As for casual shoes, most of the shoes in the $25-$50 range go on sale given there are so many brands"
   ]
  }
 ],
 "metadata": {
  "kernelspec": {
   "display_name": "Python 3",
   "language": "python",
   "name": "python3"
  },
  "language_info": {
   "codemirror_mode": {
    "name": "ipython",
    "version": 3
   },
   "file_extension": ".py",
   "mimetype": "text/x-python",
   "name": "python",
   "nbconvert_exporter": "python",
   "pygments_lexer": "ipython3",
   "version": "3.6.7"
  }
 },
 "nbformat": 4,
 "nbformat_minor": 4
}
